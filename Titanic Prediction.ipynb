{
 "cells": [
  {
   "cell_type": "code",
   "execution_count": 2,
   "id": "4c732855-57c9-464a-b50a-ef2ce79cd7e6",
   "metadata": {},
   "outputs": [
    {
     "name": "stdout",
     "output_type": "stream",
     "text": [
      "Submission file created successfully.\n",
      "   PassengerId  Survived\n",
      "0          892         0\n",
      "1          893         0\n",
      "2          894         0\n",
      "3          895         0\n",
      "4          896         1\n",
      "Accuracy: 0.8097014925373134\n"
     ]
    },
    {
     "name": "stderr",
     "output_type": "stream",
     "text": [
      "C:\\Users\\HP\\AppData\\Local\\Temp\\ipykernel_4596\\3610727144.py:11: FutureWarning: A value is trying to be set on a copy of a DataFrame or Series through chained assignment using an inplace method.\n",
      "The behavior will change in pandas 3.0. This inplace method will never work because the intermediate object on which we are setting values always behaves as a copy.\n",
      "\n",
      "For example, when doing 'df[col].method(value, inplace=True)', try using 'df.method({col: value}, inplace=True)' or df[col] = df[col].method(value) instead, to perform the operation inplace on the original object.\n",
      "\n",
      "\n",
      "  df['Age'].fillna(df['Age'].median(), inplace = True)\n",
      "C:\\Users\\HP\\AppData\\Local\\Temp\\ipykernel_4596\\3610727144.py:37: FutureWarning: A value is trying to be set on a copy of a DataFrame or Series through chained assignment using an inplace method.\n",
      "The behavior will change in pandas 3.0. This inplace method will never work because the intermediate object on which we are setting values always behaves as a copy.\n",
      "\n",
      "For example, when doing 'df[col].method(value, inplace=True)', try using 'df.method({col: value}, inplace=True)' or df[col] = df[col].method(value) instead, to perform the operation inplace on the original object.\n",
      "\n",
      "\n",
      "  test_df['Age'].fillna(test_df['Age'].median(), inplace = True)\n"
     ]
    }
   ],
   "source": [
    "import pandas as pd\n",
    "import numpy as np\n",
    "from sklearn.model_selection import train_test_split\n",
    "from sklearn.linear_model import LogisticRegression\n",
    "from sklearn.metrics import accuracy_score, confusion_matrix, classification_report\n",
    "\n",
    "df = pd.read_csv(\"train.csv\")\n",
    "\n",
    "\n",
    "df = df.drop(['PassengerId','Name', 'Ticket', 'Cabin', 'Embarked', 'SibSp' , 'Parch','Fare'], axis = 1)\n",
    "df['Age'].fillna(df['Age'].median(), inplace = True)\n",
    "df['Sex'] = df['Sex'].map({'male': 0, 'female': 1})\n",
    "\n",
    "X = df.drop('Survived',axis=1)\n",
    "y = df['Survived']\n",
    "\n",
    "X_train, X_test, y_train, y_test = train_test_split(\n",
    "     X, y, test_size=0.2, random_state=42\n",
    " )\n",
    "\n",
    "model = LogisticRegression(max_iter = 10000)\n",
    "model.fit(X_train,y_train)\n",
    "\n",
    "predicted_y = model.predict(X_test)\n",
    "\n",
    "# # Accuracy of the model\n",
    "# print(\"Accuracy:\", accuracy_score(y_test, predicted_y))\n",
    "\n",
    "# # Confusion matrix\n",
    "# print(\"Confusion Matrix:\\n\", confusion_matrix(y_test, predicted_y))\n",
    "\n",
    "# # Detailed classification report\n",
    "# print(\"Classification Report:\\n\", classification_report(y_test, predicted_y))\n",
    "\n",
    "test_df = pd.read_csv('test.csv')\n",
    "test_df = test_df.drop(['Name', 'Ticket', 'Cabin', 'Embarked', 'SibSp' , 'Parch', 'Fare'], axis = 1)\n",
    "test_df['Age'].fillna(test_df['Age'].median(), inplace = True)\n",
    "test_df['Sex'] = test_df['Sex'].map({'male': 0, 'female': 1})\n",
    "\n",
    "test_X = test_df.drop('PassengerId', axis=1)  # keep PassengerId for submission\n",
    "test_predictions = model.predict(test_X)\n",
    "\n",
    "submission = pd.DataFrame({\n",
    "    'PassengerId': test_df['PassengerId'],\n",
    "    'Survived': test_predictions\n",
    "})\n",
    "\n",
    "submission.to_csv('submission.csv', index=False)\n",
    "print(\"Submission file created successfully.\")\n",
    "\n",
    "print(submission.head())\n",
    "\n",
    "print(\"Accuracy:\", accuracy_score(y_test, predicted_y))"
   ]
  },
  {
   "cell_type": "code",
   "execution_count": null,
   "id": "63889c6b-ef83-422d-85ac-9ae4e6023610",
   "metadata": {},
   "outputs": [],
   "source": []
  },
  {
   "cell_type": "code",
   "execution_count": null,
   "id": "f72f7966-90ef-4b8f-8b1c-c9dce71ae332",
   "metadata": {},
   "outputs": [],
   "source": []
  }
 ],
 "metadata": {
  "kernelspec": {
   "display_name": "Python 3 (ipykernel)",
   "language": "python",
   "name": "python3"
  },
  "language_info": {
   "codemirror_mode": {
    "name": "ipython",
    "version": 3
   },
   "file_extension": ".py",
   "mimetype": "text/x-python",
   "name": "python",
   "nbconvert_exporter": "python",
   "pygments_lexer": "ipython3",
   "version": "3.12.4"
  }
 },
 "nbformat": 4,
 "nbformat_minor": 5
}
